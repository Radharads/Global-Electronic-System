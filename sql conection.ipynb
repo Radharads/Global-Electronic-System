{
 "cells": [
  {
   "cell_type": "code",
   "execution_count": null,
   "metadata": {},
   "outputs": [],
   "source": [
    "# My SQL connection\n",
    "\n",
    "    #import libraries\n",
    "import mysql.connector\n",
    "import pandas as pd\n",
    "import numpy as np\n",
    "from sqlalchemy import create_engine\n",
    "!pip install SQLAlchemy\n",
    "#sql connection\n",
    "mydb=mysql.connector.connect(host=\"localhost\", user=\"root\", password=\"Raymond@17\", database=\"data_spark\")\n",
    "my_cursor = mydb.cursor()\n",
    "my_cursor.execute(\"CREATE DATABASE IF NOT EXISTS data_spark\")\n",
    "print(\"database created successfully\")\n",
    "#function to reconnect in case of any connection issue\n",
    "def reconnect():\n",
    "    global mydb, my_cursor\n",
    "    mydb = mysql.connector.connect(\n",
    "        host = \"localhost\",\n",
    "        user = \"root\",\n",
    "        password = \"Raymond@17\",\n",
    "        database = \"data_spark\"\n",
    "    )\n",
    "my_cursor = mydb.cursor()\n",
    "df_customers = pd.read_csv(\"/Users/radhadevithambithurai/Downloads/Global Electronics/Customers.csv\", encoding='latin1') \n",
    "df_exchange_rates = pd.read_csv(\"/Users/radhadevithambithurai/Downloads/Global Electronics/Exchange_Rates.csv\")\n",
    "df_products = pd.read_csv(\"/Users/radhadevithambithurai/Downloads/Global Electronics/Products.csv\")\n",
    "df_stores = pd.read_csv(\"/Users/radhadevithambithurai/Downloads/Global Electronics/Stores.csv\")\n",
    "df_sales = pd.read_csv(\"/Users/radhadevithambithurai/Downloads/Global Electronics/Sales.csv\")\n",
    "#customer table creation\n",
    "my_cursor.execute('''CREATE TABLE IF NOT EXISTS customers(\n",
    "                  CustomerKey INT(64),\n",
    "                  Gender VARCHAR(255),\n",
    "                  Name VARCHAR(255),\n",
    "                  City VARCHAR(255),\n",
    "                  State VARCHAR(255),\n",
    "                  Country VARCHAR(255),\n",
    "                  Continent VARCHAR(255),\n",
    "                  Birthday DATE\n",
    "                  )''')\n",
    "print(\"Table Created successfully\")\n",
    "\n",
    "import numpy as np\n",
    "\n",
    "# Fix NaNs\n",
    "df_customers = df_customers.replace({np.nan: None})\n",
    "\n",
    "# Convert Birthday to proper date\n",
    "df_customers['Birthday'] = pd.to_datetime(df_customers['Birthday'], errors='coerce').dt.date\n",
    "\n",
    "# Ensure column order matches SQL table\n",
    "df_customers = df_customers[['CustomerKey', 'Gender', 'Name', 'City', 'State', 'Country', 'Continent', 'Birthday']]\n",
    "\n",
    "data = df_customers.values.tolist()\n",
    "\n",
    "insert_query = '''INSERT INTO customers(\n",
    "                    CustomerKey, Gender, Name, City, State, Country, Continent, Birthday)\n",
    "                  VALUES (%s, %s, %s, %s, %s, %s, %s, %s)'''\n",
    "\n",
    "batch_size = 1000\n",
    "for i in range(0, len(data), batch_size):\n",
    "    batch_data = data[i:i + batch_size]\n",
    "    print(f\"Inserting batch {i // batch_size + 1}, size: {len(batch_data)}\")\n",
    "    try:\n",
    "        my_cursor.executemany(insert_query, batch_data)\n",
    "        mydb.commit()\n",
    "    except mysql.connector.Error as err:\n",
    "        print(\"Error:\", err)\n",
    "        if err.errno in (mysql.connector.errorcode.CR_SERVER_LOST,\n",
    "                         mysql.connector.errorcode.CR_SERVER_GONE_ERROR):\n",
    "            reconnect()\n",
    "            my_cursor.executemany(insert_query, batch_data)\n",
    "            mydb.commit()\n",
    "\n",
    "            my_cursor.execute(\"SHOW COLUMNS FROM customers\")\n",
    "print(my_cursor.fetchall())\n"
   ]
  },
  {
   "cell_type": "code",
   "execution_count": null,
   "metadata": {},
   "outputs": [],
   "source": [
    "# Ensure correct types\n",
    "df_exchange_rates['Date'] = pd.to_datetime(df_exchange_rates['Date']).dt.date\n",
    "df_exchange_rates['Currency_Code'] = df_exchange_rates['Currency_Code'].astype(str)\n",
    "df_exchange_rates['Exchange'] = pd.to_numeric(df_exchange_rates['Exchange'], errors='coerce')"
   ]
  },
  {
   "cell_type": "code",
   "execution_count": null,
   "metadata": {},
   "outputs": [],
   "source": [
    "df_exchange_rates.rename(columns={'Currency': 'Currency_Code'}, inplace=True)"
   ]
  },
  {
   "cell_type": "code",
   "execution_count": null,
   "metadata": {},
   "outputs": [],
   "source": [
    "# exchange_rates table creation\n",
    "my_cursor.execute('''CREATE TABLE IF NOT EXISTS exchange_rates(\n",
    "                  Date DATE,\n",
    "                  Currency_Code VARCHAR(255),\n",
    "                  Exchange FLOAT\n",
    "                  )''')\n",
    "print(\"Table Created successfully\")\n",
    "\n",
    "# insert values into exchange_rates table\n",
    "insert_query ='''INSERT INTO exchange_rates(\n",
    "                  Date,\n",
    "                  Currency_Code,\n",
    "                  Exchange)\n",
    "                  VALUES (%s, %s, %s)'''\n",
    "data=df_exchange_rates.values.tolist()\n",
    "batch_size = 1000  # Adjust this value as needed\n",
    "\n",
    "for i in range(0, len(data), batch_size):\n",
    "    batch_data = data[i:i + batch_size]\n",
    "    try:\n",
    "        # Performing batch insert with executemany()\n",
    "        my_cursor.executemany(insert_query, batch_data)\n",
    "        mydb.commit()\n",
    "    except mysql.connector.Error as err:\n",
    "        if err.errno == mysql.connector.errorcode.CR_SERVER_LOST or err.errno == mysql.connector.errorcode.CR_SERVER_GONE_ERROR:\n",
    "            reconnect()\n",
    "            my_cursor.executemany(insert_query, batch_data)\n",
    "            mydb.commit()\n",
    "print(\"Inserted successfully\")"
   ]
  },
  {
   "cell_type": "code",
   "execution_count": null,
   "metadata": {},
   "outputs": [],
   "source": [
    "print(len(df_exchange_rates))"
   ]
  },
  {
   "cell_type": "code",
   "execution_count": null,
   "metadata": {},
   "outputs": [],
   "source": [
    "# create Products table \n",
    "my_cursor.execute('''CREATE TABLE IF NOT EXISTS products(\n",
    "                  ProductKey INT(64),\n",
    "                  Product_Name VARCHAR(255),\n",
    "                  Brand VARCHAR(255),\n",
    "                  Color VARCHAR(255),\n",
    "                  Unit_Cost_USD FLOAT,\n",
    "                  Unit_Price_USD FLOAT,\n",
    "                  Subcategory VARCHAR(255),\n",
    "                  CategoryKey INT(64),\n",
    "                  Category VARCHAR(255)\n",
    "                  )''')\n",
    "print(\"Table Created successfully\")"
   ]
  },
  {
   "cell_type": "code",
   "execution_count": null,
   "metadata": {},
   "outputs": [],
   "source": [
    "print(df_products.shape)\n",
    "print(df_products.head())"
   ]
  },
  {
   "cell_type": "code",
   "execution_count": null,
   "metadata": {},
   "outputs": [],
   "source": [
    "df_products.rename(columns={\n",
    "    'Product Name': 'Product_Name',\n",
    "    'Unit Cost USD': 'Unit_Cost_USD',\n",
    "    'Unit Price USD': 'Unit_Price_USD'\n",
    "}, inplace=True)"
   ]
  },
  {
   "cell_type": "code",
   "execution_count": null,
   "metadata": {},
   "outputs": [],
   "source": [
    "expected_columns = ['ProductKey', 'Product_Name', 'Brand', 'Color', \n",
    "                    'Unit_Cost_USD', 'Unit_Price_USD', 'Subcategory', \n",
    "                    'CategoryKey', 'Category']\n",
    "df_products = df_products[expected_columns]"
   ]
  },
  {
   "cell_type": "code",
   "execution_count": null,
   "metadata": {},
   "outputs": [],
   "source": [
    "df_products['Unit_Cost_USD'] = df_products['Unit_Cost_USD'].replace('[\\$,]', '', regex=True).astype(float)\n",
    "df_products['Unit_Price_USD'] = df_products['Unit_Price_USD'].replace('[\\$,]', '', regex=True).astype(float)"
   ]
  },
  {
   "cell_type": "code",
   "execution_count": null,
   "metadata": {},
   "outputs": [],
   "source": [
    "# Clean & rename\n",
    "df_products.rename(columns={\n",
    "    'Product Name': 'Product_Name',\n",
    "    'Unit Cost USD': 'Unit_Cost_USD',\n",
    "    'Unit Price USD': 'Unit_Price_USD'\n",
    "}, inplace=True)\n",
    "\n",
    "# Clean dollar signs and convert to float\n",
    "df_products['Unit_Cost_USD'] = df_products['Unit_Cost_USD'].replace('[\\$,]', '', regex=True).astype(float)\n",
    "df_products['Unit_Price_USD'] = df_products['Unit_Price_USD'].replace('[\\$,]', '', regex=True).astype(float)\n",
    "\n",
    "# Select required columns\n",
    "expected_columns = ['ProductKey', 'Product_Name', 'Brand', 'Color', \n",
    "                    'Unit_Cost_USD', 'Unit_Price_USD', 'Subcategory', \n",
    "                    'CategoryKey', 'Category']\n",
    "df_products = df_products[expected_columns]\n",
    "\n",
    "# Prepare data\n",
    "data = df_products.values.tolist()\n",
    "batch_size = 1000\n",
    "\n",
    "insert_query ='''INSERT INTO products(\n",
    "                  ProductKey,\n",
    "                  Product_Name,\n",
    "                  Brand,\n",
    "                  Color,\n",
    "                  Unit_Cost_USD,\n",
    "                  Unit_Price_USD,\n",
    "                  Subcategory,\n",
    "                  CategoryKey,\n",
    "                  Category)\n",
    "                  VALUES (%s, %s, %s, %s, %s, %s, %s, %s, %s)'''\n",
    "\n",
    "# Insert in batches\n",
    "for i in range(0, len(data), batch_size):\n",
    "    batch_data = data[i:i + batch_size]\n",
    "    try:\n",
    "        my_cursor.executemany(insert_query, batch_data)\n",
    "        mydb.commit()\n",
    "        print(f\"Inserted batch {i // batch_size + 1}\")\n",
    "    except mysql.connector.Error as err:\n",
    "        if err.errno in (mysql.connector.errorcode.CR_SERVER_LOST,\n",
    "                         mysql.connector.errorcode.CR_SERVER_GONE_ERROR):\n",
    "            reconnect()  # your reconnect function\n",
    "            my_cursor.executemany(insert_query, batch_data)\n",
    "            mydb.commit()\n",
    "        else:\n",
    "            print(f\"Error in batch {i // batch_size + 1}: {err}\")\n",
    "print(\"All product data inserted successfully.\")"
   ]
  },
  {
   "cell_type": "code",
   "execution_count": null,
   "metadata": {},
   "outputs": [],
   "source": [
    "#sales table creation\n",
    "my_cursor.execute('''CREATE TABLE IF NOT EXISTS sales(\n",
    "                  Order_Number INT(64),\n",
    "                  Line_Item INT(64),\n",
    "                  Order_Date DATE,\n",
    "                  Delivery_Date DATE,\n",
    "                  CustomerKey INT(64),\n",
    "                  StoreKey INT(64),\n",
    "                  ProductKey INT(64),\n",
    "                  Quantity INT(64),\n",
    "                  Currency_Code VARCHAR(255)\n",
    "                  )''')\n",
    "print(\"Table Created successfully\")\n",
    "\n",
    "#insert values into sales table\n",
    "insert_query ='''INSERT INTO sales(\n",
    "                  Order_Number,\n",
    "                  Line_Item,\n",
    "                  Order_Date,\n",
    "                  Delivery_Date,\n",
    "                  CustomerKey,\n",
    "                  StoreKey,\n",
    "                  ProductKey,\n",
    "                  Quantity,\n",
    "                  Currency_Code)\n",
    "                  VALUES (%s, %s, %s, %s, %s, %s, %s, %s,%s)'''\n",
    "data=df_sales.values.tolist()\n",
    "batch_size = 1000  # Adjust this value as needed\n",
    "\n",
    "for i in range(0, len(data), batch_size):\n",
    "    batch_data = data[i:i + batch_size]\n",
    "    try:\n",
    "        # Performing batch insert with executemany()\n",
    "        my_cursor.executemany(insert_query, batch_data)\n",
    "        mydb.commit()\n",
    "    except mysql.connector.Error as err:\n",
    "        if err.errno == mysql.connector.errorcode.CR_SERVER_LOST or err.errno == mysql.connector.errorcode.CR_SERVER_GONE_ERROR:\n",
    "            reconnect()\n",
    "            my_cursor.executemany(insert_query, batch_data)\n",
    "            mydb.commit()\n",
    "print(\"Inserted successfully\")"
   ]
  },
  {
   "cell_type": "code",
   "execution_count": null,
   "metadata": {},
   "outputs": [],
   "source": [
    "print(df_sales.head())\n",
    "print(df_sales.dtypes)"
   ]
  },
  {
   "cell_type": "code",
   "execution_count": null,
   "metadata": {},
   "outputs": [],
   "source": [
    "df_sales['Order Date'] = pd.to_datetime(df_sales['Order Date'], errors='coerce')\n",
    "df_sales['Delivery Date'] = pd.to_datetime(df_sales['Delivery Date'], errors='coerce')"
   ]
  },
  {
   "cell_type": "code",
   "execution_count": null,
   "metadata": {},
   "outputs": [],
   "source": [
    "print(data[0])"
   ]
  },
  {
   "cell_type": "code",
   "execution_count": null,
   "metadata": {},
   "outputs": [],
   "source": [
    "df_sales['Order Date'] = pd.to_datetime(df_sales['Order Date'], errors='coerce').dt.date\n",
    "df_sales['Delivery Date'] = pd.to_datetime(df_sales['Delivery Date'], errors='coerce').dt.date"
   ]
  },
  {
   "cell_type": "code",
   "execution_count": null,
   "metadata": {},
   "outputs": [],
   "source": [
    "# Ensure correct formats before inserting\n",
    "df_sales['Order Date'] = pd.to_datetime(df_sales['Order Date'], errors='coerce').dt.date\n",
    "df_sales['Delivery Date'] = pd.to_datetime(df_sales['Delivery Date'], errors='coerce').dt.date\n",
    "\n",
    "insert_query ='''INSERT INTO sales(\n",
    "                  Order_Number,\n",
    "                  Line_Item,\n",
    "                  Order_Date,\n",
    "                  Delivery_Date,\n",
    "                  CustomerKey,\n",
    "                  StoreKey,\n",
    "                  ProductKey,\n",
    "                  Quantity,\n",
    "                  Currency_Code)\n",
    "                  VALUES (%s, %s, %s, %s, %s, %s, %s, %s, %s)'''\n",
    "\n",
    "data = df_sales.values.tolist()\n",
    "batch_size = 1000\n",
    "\n",
    "for i in range(0, len(data), batch_size):\n",
    "    batch_data = data[i:i + batch_size]\n",
    "    try:\n",
    "        my_cursor.executemany(insert_query, batch_data)\n",
    "        mydb.commit()\n",
    "    except mysql.connector.Error as err:\n",
    "        print(f\"Error at batch {i}: {err}\")\n",
    "        if err.errno in [mysql.connector.errorcode.CR_SERVER_LOST, mysql.connector.errorcode.CR_SERVER_GONE_ERROR]:\n",
    "            reconnect()\n",
    "            my_cursor.executemany(insert_query, batch_data)\n",
    "            mydb.commit()\n",
    "\n",
    "print(\"Inserted successfully\")"
   ]
  },
  {
   "cell_type": "code",
   "execution_count": null,
   "metadata": {},
   "outputs": [],
   "source": [
    "my_cursor.execute(\"SELECT COUNT(*) FROM sales\")\n",
    "print(\"Total rows in sales table:\", my_cursor.fetchone()[0])\n",
    "\n",
    "# Sample data\n",
    "my_cursor.execute(\"SELECT * FROM sales LIMIT 5\")\n",
    "rows = my_cursor.fetchall()\n",
    "for row in rows:\n",
    "    print(row)"
   ]
  },
  {
   "cell_type": "code",
   "execution_count": null,
   "metadata": {},
   "outputs": [],
   "source": [
    "#store table creation\n",
    "my_cursor.execute('''CREATE TABLE IF NOT EXISTS stores(\n",
    "                  StoreKey INT,\n",
    "                  Country VARCHAR(255),\n",
    "                  State VARCHAR(255),\n",
    "                  Square_Meters FLOAT,\n",
    "                  Open_Date DATE\n",
    "                  )''')\n",
    "print(\"Table Created successfully\")\n",
    "\n",
    "df_stores.fillna(0)  \n",
    "##insert values into Store table\n",
    "insert_query ='''INSERT INTO stores(\n",
    "                  StoreKey,\n",
    "                  Country,\n",
    "                  State,\n",
    "                  Square_Meters,\n",
    "                  Open_Date)\n",
    "                  VALUES (%s, %s, %s, %s, %s)'''\n",
    "data=df_stores.values.tolist()\n",
    "my_cursor.executemany(insert_query,data)\n",
    "print(\"Inserted successfully\")"
   ]
  },
  {
   "cell_type": "code",
   "execution_count": null,
   "metadata": {},
   "outputs": [],
   "source": [
    "df_stores = df_stores.fillna({\n",
    "    'StoreKey': 0,\n",
    "    'Country': 'Unknown',\n",
    "    'State': 'Unknown',\n",
    "    'Square_Meters': 0,\n",
    "    'Open_Date': None  # or a default date\n",
    "})"
   ]
  },
  {
   "cell_type": "code",
   "execution_count": null,
   "metadata": {},
   "outputs": [],
   "source": [
    "data = df_stores.where(pd.notnull(df_stores), None).values.tolist()"
   ]
  },
  {
   "cell_type": "code",
   "execution_count": null,
   "metadata": {},
   "outputs": [],
   "source": [
    "# Fill missing values\n",
    "df_stores = df_stores.fillna({\n",
    "    'StoreKey': 0,\n",
    "    'Country': 'Unknown',\n",
    "    'State': 'Unknown',\n",
    "    'Square_Meters': 0,\n",
    "    'Open_Date': None\n",
    "})\n",
    "\n",
    "# Convert NaN to None explicitly (if any still remain)\n",
    "data = df_stores.where(pd.notnull(df_stores), None).values.tolist()\n",
    "\n",
    "# Prepare insert query\n",
    "insert_query = '''\n",
    "    INSERT INTO stores(\n",
    "        StoreKey,\n",
    "        Country,\n",
    "        State,\n",
    "        Square_Meters,\n",
    "        Open_Date\n",
    "    ) VALUES (%s, %s, %s, %s, %s)\n",
    "'''\n",
    "\n",
    "# Execute batch insert\n",
    "my_cursor.executemany(insert_query, data)\n",
    "my_db.commit()\n",
    "print(\"Inserted successfully\")"
   ]
  },
  {
   "cell_type": "code",
   "execution_count": null,
   "metadata": {},
   "outputs": [],
   "source": [
    "import math\n",
    "\n",
    "# For example, check first row for nan\n",
    "print(any(math.isnan(x) if isinstance(x, float) else False for x in data[0]))"
   ]
  },
  {
   "cell_type": "code",
   "execution_count": null,
   "metadata": {},
   "outputs": [],
   "source": [
    "import numpy as np\n",
    "\n",
    "# Replace np.nan with None (Python null)\n",
    "data = [\n",
    "    tuple(None if (isinstance(x, float) and np.isnan(x)) else x for x in row)\n",
    "    for row in df_stores.values.tolist()\n",
    "]"
   ]
  },
  {
   "cell_type": "code",
   "execution_count": null,
   "metadata": {},
   "outputs": [],
   "source": [
    "df_stores['Open_Date'] = pd.to_datetime(df_stores['Open_Date'], errors='coerce').dt.date"
   ]
  },
  {
   "cell_type": "code",
   "execution_count": null,
   "metadata": {},
   "outputs": [],
   "source": [
    "print(df_stores.columns.tolist())"
   ]
  },
  {
   "cell_type": "code",
   "execution_count": null,
   "metadata": {},
   "outputs": [],
   "source": [
    "df_stores = df_stores.fillna(0)"
   ]
  },
  {
   "cell_type": "code",
   "execution_count": null,
   "metadata": {},
   "outputs": [],
   "source": [
    "df_stores.columns = df_stores.columns.str.strip().str.replace(' ', '_').str.title()\n",
    "print(df_stores.columns.tolist())"
   ]
  },
  {
   "cell_type": "code",
   "execution_count": null,
   "metadata": {},
   "outputs": [],
   "source": [
    "df_stores['Open_Date'] = pd.to_datetime(df_stores['Open_Date'], errors='coerce').dt.date"
   ]
  },
  {
   "cell_type": "code",
   "execution_count": null,
   "metadata": {},
   "outputs": [],
   "source": [
    "# Clean columns\n",
    "df_stores.columns = df_stores.columns.str.strip().str.replace(' ', '_').str.title()\n",
    "\n",
    "# Check column names\n",
    "print(\"Columns:\", df_stores.columns.tolist())\n",
    "\n",
    "# Fill missing values\n",
    "df_stores = df_stores.fillna(0)\n",
    "\n",
    "# Convert Open_Date to proper format\n",
    "df_stores['Open_Date'] = pd.to_datetime(df_stores['Open_Date'], errors='coerce').dt.date"
   ]
  },
  {
   "cell_type": "code",
   "execution_count": null,
   "metadata": {},
   "outputs": [],
   "source": [
    "df_stores['Open_Date'] = pd.to_datetime(df_stores['Open_Date'], errors='coerce').dt.date\n",
    "print(df_stores['Open_Date'].head())"
   ]
  },
  {
   "cell_type": "code",
   "execution_count": null,
   "metadata": {},
   "outputs": [],
   "source": [
    "my_cursor.execute(\"SELECT * FROM stores LIMIT 5\")\n",
    "rows = my_cursor.fetchall()\n",
    "for row in rows:\n",
    "    print(row)"
   ]
  },
  {
   "cell_type": "code",
   "execution_count": null,
   "metadata": {},
   "outputs": [],
   "source": [
    "# Clean and prepare df_stores\n",
    "df_stores.columns = df_stores.columns.str.strip().str.replace(' ', '_').str.title()\n",
    "df_stores = df_stores.fillna(0)\n",
    "df_stores['Open_Date'] = pd.to_datetime(df_stores['Open_Date'], errors='coerce').dt.date\n",
    "\n",
    "# Reorder columns just in case\n",
    "df_stores = df_stores[['StoreKey', 'Country', 'State', 'Square_Meters', 'Open_Date']]\n",
    "\n",
    "# Convert to list of tuples\n",
    "data = df_stores.values.tolist()\n",
    "\n",
    "# Insert into MySQL\n",
    "insert_query = '''\n",
    "    INSERT INTO stores (\n",
    "        StoreKey,\n",
    "        Country,\n",
    "        State,\n",
    "        Square_Meters,\n",
    "        Open_Date\n",
    "    ) VALUES (%s, %s, %s, %s, %s)\n",
    "'''\n",
    "\n",
    "my_cursor.executemany(insert_query, data)\n",
    "mydb.commit()  # <-- required!\n",
    "print(\"Inserted successfully\")\n",
    "\n",
    "# Confirm from DB\n",
    "my_cursor.execute(\"SELECT * FROM stores LIMIT 5\")\n",
    "rows = my_cursor.fetchall()\n",
    "for row in rows:\n",
    "    print(row)"
   ]
  },
  {
   "cell_type": "code",
   "execution_count": null,
   "metadata": {},
   "outputs": [],
   "source": [
    "print(df_stores.columns)"
   ]
  },
  {
   "cell_type": "code",
   "execution_count": null,
   "metadata": {},
   "outputs": [],
   "source": [
    "# Strip whitespace from column names\n",
    "df_stores.columns = df_stores.columns.str.strip()\n",
    "\n",
    "# Optional: print cleaned column names\n",
    "print(df_stores.columns.tolist())"
   ]
  },
  {
   "cell_type": "code",
   "execution_count": null,
   "metadata": {},
   "outputs": [],
   "source": [
    "df_stores.rename(columns={'storekey': 'StoreKey'}, inplace=True)"
   ]
  },
  {
   "cell_type": "code",
   "execution_count": null,
   "metadata": {},
   "outputs": [],
   "source": [
    "required_columns = ['StoreKey', 'Country', 'State', 'Square_Meters', 'Open_Date']\n",
    "missing = [col for col in required_columns if col not in df_stores.columns]\n",
    "\n",
    "if missing:\n",
    "    print(f\"Missing columns: {missing}\")\n",
    "else:\n",
    "    df_stores = df_stores[required_columns]"
   ]
  },
  {
   "cell_type": "code",
   "execution_count": null,
   "metadata": {},
   "outputs": [],
   "source": [
    "print(df_stores.columns.tolist())"
   ]
  },
  {
   "cell_type": "code",
   "execution_count": null,
   "metadata": {},
   "outputs": [],
   "source": [
    "# Suppose the column is 'store_key' instead of 'StoreKey'\n",
    "df_stores.rename(columns={'store_key': 'StoreKey'}, inplace=True)"
   ]
  }
 ],
 "metadata": {
  "kernelspec": {
   "display_name": "Python 3",
   "language": "python",
   "name": "python3"
  },
  "language_info": {
   "name": "python",
   "version": "3.9.6"
  }
 },
 "nbformat": 4,
 "nbformat_minor": 2
}
